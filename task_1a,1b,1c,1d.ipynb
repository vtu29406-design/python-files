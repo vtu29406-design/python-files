{
  "nbformat": 4,
  "nbformat_minor": 0,
  "metadata": {
    "colab": {
      "provenance": [],
      "authorship_tag": "ABX9TyOcJ+3O7q9HNIKK0OX6oIJu",
      "include_colab_link": true
    },
    "kernelspec": {
      "name": "python3",
      "display_name": "Python 3"
    },
    "language_info": {
      "name": "python"
    }
  },
  "cells": [
    {
      "cell_type": "markdown",
      "metadata": {
        "id": "view-in-github",
        "colab_type": "text"
      },
      "source": [
        "<a href=\"https://colab.research.google.com/github/vtu29406-design/python-files/blob/main/task_1a%2C1b%2C1c%2C1d.ipynb\" target=\"_parent\"><img src=\"https://colab.research.google.com/assets/colab-badge.svg\" alt=\"Open In Colab\"/></a>"
      ]
    },
    {
      "cell_type": "code",
      "execution_count": 35,
      "metadata": {
        "colab": {
          "base_uri": "https://localhost:8080/",
          "height": 106
        },
        "id": "uAh_tzxBocAn",
        "outputId": "cf83fcae-b364-4801-ca82-0ca9bb347cbc"
      },
      "outputs": [
        {
          "output_type": "error",
          "ename": "SyntaxError",
          "evalue": "invalid syntax (ipython-input-96561046.py, line 42)",
          "traceback": [
            "\u001b[0;36m  File \u001b[0;32m\"/tmp/ipython-input-96561046.py\"\u001b[0;36m, line \u001b[0;32m42\u001b[0m\n\u001b[0;31m    mport math\u001b[0m\n\u001b[0m          ^\u001b[0m\n\u001b[0;31mSyntaxError\u001b[0m\u001b[0;31m:\u001b[0m invalid syntax\n"
          ]
        }
      ],
      "source": [
        "# Program to calculate Compound Interest\n",
        "\n",
        "# Taking input from user\n",
        "P = float(input(\"Enter the principal amount: \"))\n",
        "R = float(input(\"Enter the rate of interest: \"))\n",
        "T = float(input(\"Enter the time (in years): \"))\n",
        "\n",
        "# Calculating compound interest\n",
        "CI = P * (1 + R / 100) ** T - P\n",
        "\n",
        "# Displaying result\n",
        "print(\"Compound Interest =\", CI)\n",
        "\n",
        "# Program to calculate total amount for attending master chef's biryani course\n",
        "\n",
        "# Taking input from the user\n",
        "fee_per_week = float(input(\"Enter the fee per week (in ₹): \"))\n",
        "weeks = int(input(\"Enter the number of weeks you will attend: \"))\n",
        "\n",
        "# Calculating total amount\n",
        "total_amount = fee_per_week * weeks\n",
        "\n",
        "# Displaying result\n",
        "print(\"According to a recent survey, Biryani is the most ordered food.\")\n",
        "print(\"To learn world-class Biryani from a Master Chef, you will attend\", weeks, \"weeks of classes.\")\n",
        "print(\"Total amount to pay: ₹\", total_amount)\n",
        "\n",
        "import math\n",
        "\n",
        "# Read radius from user\n",
        "radius = float(input(\"Enter the radius of the farmer's field (in feet): \"))\n",
        "\n",
        "# Calculate area in square feet\n",
        "area_sqft = math.pi * radius ** 2\n",
        "\n",
        "# Convert to acres\n",
        "area_acres = area_sqft / 43560\n",
        "\n",
        "# Display result\n",
        "print(\"The area of the field is:\", area_acres, \"acres\")\n",
        "\n",
        "mport math\n",
        "\n",
        "# Input coordinates for Ram\n",
        "x1 = float(input(\"Enter Ram's x-coordinate: \"))\n",
        "y1 = float(input(\"Enter Ram's y-coordinate: \"))\n",
        "\n",
        "# Input coordinates for Sita\n",
        "x2 = float(input(\"Enter Sita's x-coordinate: \"))\n",
        "y2 = float(input(\"Enter Sita's y-coordinate: \"))\n",
        "\n",
        "# Calculate the distance\n",
        "distance = math.sqrt((x2 - x1)*2 + (y2 - y1)*2)\n",
        "\n",
        "# Display result\n",
        "print(\"The distance between Ram and Sita is:\", distance, \"units\")\n"
      ]
    }
  ]
}