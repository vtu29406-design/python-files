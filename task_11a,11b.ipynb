{
  "nbformat": 4,
  "nbformat_minor": 0,
  "metadata": {
    "colab": {
      "provenance": [],
      "authorship_tag": "ABX9TyOmo8STxEISPF52/BAjv/aN",
      "include_colab_link": true
    },
    "kernelspec": {
      "name": "python3",
      "display_name": "Python 3"
    },
    "language_info": {
      "name": "python"
    }
  },
  "cells": [
    {
      "cell_type": "markdown",
      "metadata": {
        "id": "view-in-github",
        "colab_type": "text"
      },
      "source": [
        "<a href=\"https://colab.research.google.com/github/vtu29406-design/python-files/blob/main/task_11a%2C11b.ipynb\" target=\"_parent\"><img src=\"https://colab.research.google.com/assets/colab-badge.svg\" alt=\"Open In Colab\"/></a>"
      ]
    },
    {
      "cell_type": "code",
      "execution_count": 31,
      "metadata": {
        "colab": {
          "base_uri": "https://localhost:8080/",
          "height": 367
        },
        "id": "uAh_tzxBocAn",
        "outputId": "802d135d-6a40-48bb-ee13-2fe87869f909"
      },
      "outputs": [
        {
          "output_type": "error",
          "ename": "TclError",
          "evalue": "no display name and no $DISPLAY environment variable",
          "traceback": [
            "\u001b[0;31m---------------------------------------------------------------------------\u001b[0m",
            "\u001b[0;31mTclError\u001b[0m                                  Traceback (most recent call last)",
            "\u001b[0;32m/tmp/ipython-input-526758886.py\u001b[0m in \u001b[0;36m<cell line: 0>\u001b[0;34m()\u001b[0m\n\u001b[1;32m      8\u001b[0m     \u001b[0mresult_label\u001b[0m\u001b[0;34m.\u001b[0m\u001b[0mconfig\u001b[0m\u001b[0;34m(\u001b[0m\u001b[0mtext\u001b[0m\u001b[0;34m=\u001b[0m\u001b[0;34mf\"Your age is {age}\"\u001b[0m\u001b[0;34m)\u001b[0m\u001b[0;34m\u001b[0m\u001b[0;34m\u001b[0m\u001b[0m\n\u001b[1;32m      9\u001b[0m \u001b[0;34m\u001b[0m\u001b[0m\n\u001b[0;32m---> 10\u001b[0;31m \u001b[0mroot\u001b[0m \u001b[0;34m=\u001b[0m \u001b[0mtk\u001b[0m\u001b[0;34m.\u001b[0m\u001b[0mTk\u001b[0m\u001b[0;34m(\u001b[0m\u001b[0;34m)\u001b[0m\u001b[0;34m\u001b[0m\u001b[0;34m\u001b[0m\u001b[0m\n\u001b[0m\u001b[1;32m     11\u001b[0m \u001b[0mroot\u001b[0m\u001b[0;34m.\u001b[0m\u001b[0mtitle\u001b[0m\u001b[0;34m(\u001b[0m\u001b[0;34m\"Age Calculator\"\u001b[0m\u001b[0;34m)\u001b[0m\u001b[0;34m\u001b[0m\u001b[0;34m\u001b[0m\u001b[0m\n\u001b[1;32m     12\u001b[0m \u001b[0;34m\u001b[0m\u001b[0m\n",
            "\u001b[0;32m/usr/lib/python3.12/tkinter/__init__.py\u001b[0m in \u001b[0;36m__init__\u001b[0;34m(self, screenName, baseName, className, useTk, sync, use)\u001b[0m\n\u001b[1;32m   2347\u001b[0m                 \u001b[0mbaseName\u001b[0m \u001b[0;34m=\u001b[0m \u001b[0mbaseName\u001b[0m \u001b[0;34m+\u001b[0m \u001b[0mext\u001b[0m\u001b[0;34m\u001b[0m\u001b[0;34m\u001b[0m\u001b[0m\n\u001b[1;32m   2348\u001b[0m         \u001b[0minteractive\u001b[0m \u001b[0;34m=\u001b[0m \u001b[0;32mFalse\u001b[0m\u001b[0;34m\u001b[0m\u001b[0;34m\u001b[0m\u001b[0m\n\u001b[0;32m-> 2349\u001b[0;31m         \u001b[0mself\u001b[0m\u001b[0;34m.\u001b[0m\u001b[0mtk\u001b[0m \u001b[0;34m=\u001b[0m \u001b[0m_tkinter\u001b[0m\u001b[0;34m.\u001b[0m\u001b[0mcreate\u001b[0m\u001b[0;34m(\u001b[0m\u001b[0mscreenName\u001b[0m\u001b[0;34m,\u001b[0m \u001b[0mbaseName\u001b[0m\u001b[0;34m,\u001b[0m \u001b[0mclassName\u001b[0m\u001b[0;34m,\u001b[0m \u001b[0minteractive\u001b[0m\u001b[0;34m,\u001b[0m \u001b[0mwantobjects\u001b[0m\u001b[0;34m,\u001b[0m \u001b[0museTk\u001b[0m\u001b[0;34m,\u001b[0m \u001b[0msync\u001b[0m\u001b[0;34m,\u001b[0m \u001b[0muse\u001b[0m\u001b[0;34m)\u001b[0m\u001b[0;34m\u001b[0m\u001b[0;34m\u001b[0m\u001b[0m\n\u001b[0m\u001b[1;32m   2350\u001b[0m         \u001b[0;32mif\u001b[0m \u001b[0m_debug\u001b[0m\u001b[0;34m:\u001b[0m\u001b[0;34m\u001b[0m\u001b[0;34m\u001b[0m\u001b[0m\n\u001b[1;32m   2351\u001b[0m             \u001b[0mself\u001b[0m\u001b[0;34m.\u001b[0m\u001b[0mtk\u001b[0m\u001b[0;34m.\u001b[0m\u001b[0msettrace\u001b[0m\u001b[0;34m(\u001b[0m\u001b[0m_print_command\u001b[0m\u001b[0;34m)\u001b[0m\u001b[0;34m\u001b[0m\u001b[0;34m\u001b[0m\u001b[0m\n",
            "\u001b[0;31mTclError\u001b[0m: no display name and no $DISPLAY environment variable"
          ]
        }
      ],
      "source": [
        "import tkinter as tk\n",
        "from datetime import datetime\n",
        "\n",
        "def calculate_age():\n",
        "    today = datetime.now()\n",
        "    birth_date = datetime(int(year_entry.get()), int(month_entry.get()), int(day_entry.get()))\n",
        "    age = today.year - birth_date.year - ((today.month, today.day) < (birth_date.month, birth_date.day))\n",
        "    result_label.config(text=f\"Your age is {age}\")\n",
        "\n",
        "root = tk.Tk()\n",
        "root.title(\"Age Calculator\")\n",
        "\n",
        "tk.Label(root, text=\"Name:\",width=50).pack()   #  his method adds the label to the parent widget (root)\n",
        "name_entry = tk.Entry(root)  # which is a single-line text input field that allows users to enter information.\n",
        "name_entry.pack()    # to add the name_entry widget (which is an entry field for user input) to the main application window (root).\n",
        "\n",
        "tk.Label(root, text=\"Year of Birth:\").pack()\n",
        "year_entry = tk.Entry(root)\n",
        "year_entry.pack()\n",
        "\n",
        "tk.Label(root, text=\"Month of Birth:\").pack()\n",
        "month_entry = tk.Entry(root)\n",
        "month_entry.pack()\n",
        "\n",
        "tk.Label(root, text=\"Day of Birth:\").pack()\n",
        "day_entry = tk.Entry(root)\n",
        "day_entry.pack()\n",
        "\n",
        "tk.Button(root, text=\"Calculate Age\", background='pink',foreground='black',command=calculate_age).pack()\n",
        "\n",
        "result_label = tk.Label(root, text=\"\")\n",
        "result_label.pack()\n",
        "\n",
        "root.mainloop()  # This line starts the Tkinter event loop, keeps the application responsive, The event loop keeps the application running, waiting for user interactions (like button clicks or keyboard input).\n",
        "\n",
        "\n",
        "\n",
        "import tkinter as tk\n",
        "from datetime import datetime\n",
        "\n",
        "def update_time():\n",
        "    current_time = datetime.now().strftime(\"%H:%M:%S\")\n",
        "    time_label.config(text=current_time)\n",
        "    time_label.after(1000, update_time)\n",
        "\n",
        "root = tk.Tk()\n",
        "root.title(\"Digital Clock\")\n",
        "\n",
        "style = \"calibri\"\n",
        "size = 40\n",
        "font_style = (style, size, \"bold\")\n",
        "\n",
        "time_label = tk.Label(root, font=font_style, anchor=\"center\", background='purple',foreground='white')  # anchor=\"center\": Centers the text within the label\n",
        "time_label.pack(fill=tk.BOTH, expand=True) # The label dynamically adjusts to fill the entire window space, ensuring that the user interface remains neat and functional, regardless of the window size.\n",
        "\n",
        "update_time() # responsible for updating the displayed time at regular intervals\n",
        "root.mainloop()\n"
      ]
    }
  ]
}