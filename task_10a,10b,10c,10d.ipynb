{
  "nbformat": 4,
  "nbformat_minor": 0,
  "metadata": {
    "colab": {
      "provenance": [],
      "authorship_tag": "ABX9TyOeGmCnGCZxIv0QVwBwtzOa",
      "include_colab_link": true
    },
    "kernelspec": {
      "name": "python3",
      "display_name": "Python 3"
    },
    "language_info": {
      "name": "python"
    }
  },
  "cells": [
    {
      "cell_type": "markdown",
      "metadata": {
        "id": "view-in-github",
        "colab_type": "text"
      },
      "source": [
        "<a href=\"https://colab.research.google.com/github/vtu29406-design/python-files/blob/main/task_10a%2C10b%2C10c%2C10d.ipynb\" target=\"_parent\"><img src=\"https://colab.research.google.com/assets/colab-badge.svg\" alt=\"Open In Colab\"/></a>"
      ]
    },
    {
      "cell_type": "code",
      "execution_count": 30,
      "metadata": {
        "colab": {
          "base_uri": "https://localhost:8080/",
          "height": 106
        },
        "id": "uAh_tzxBocAn",
        "outputId": "ef27730e-af6d-4777-980e-ab7bfab14338"
      },
      "outputs": [
        {
          "output_type": "error",
          "ename": "SyntaxError",
          "evalue": "unterminated string literal (detected at line 52) (ipython-input-2020160106.py, line 52)",
          "traceback": [
            "\u001b[0;36m  File \u001b[0;32m\"/tmp/ipython-input-2020160106.py\"\u001b[0;36m, line \u001b[0;32m52\u001b[0m\n\u001b[0;31m    percentage formatting\".It is used to\u001b[0m\n\u001b[0m                         ^\u001b[0m\n\u001b[0;31mSyntaxError\u001b[0m\u001b[0;31m:\u001b[0m unterminated string literal (detected at line 52)\n"
          ]
        }
      ],
      "source": [
        "import numpy as np\n",
        "import matplotlib.pyplot as plt\n",
        "# Generate x values from 0 to 2*pi\n",
        "x = np.linspace(0, 2*np.pi, 1000)   # This line generates an array of 1000 evenly spaced values between\n",
        "0 and 2π. It takes three arguments: the starting point (0 in this case),\n",
        "the ending point (2*np.pi which is approximately 6.28319 and the\n",
        "number of points to generate (1000). It returns an array of equally\n",
        "spaced points between the start and end points, inclusive.\n",
        "# Generate y values corresponding to sine of x\n",
        "y = np.sin(x)\n",
        "# Plot the sine wave\n",
        "plt.plot(x, y)\n",
        "plt.title('Sine Wave')\n",
        "plt.xlabel('x')\n",
        "plt.ylabel('sin(x)')\n",
        "plt.grid(True)   # Turns on the grid lines\n",
        "\n",
        "\n",
        "import matplotlib.pyplot as plt\n",
        "# Define the data\n",
        "intervals = ['140-145', '145-150', '151-156', '157-162', '163-168', '168-173', '173-178', '179-184',\n",
        "'185-190', '190-195']\n",
        "frequencies = [2, 5, 15, 31, 46, 53, 45, 28, 21, 4]\n",
        "# Plot the histogram\n",
        "plt.bar(intervals, frequencies, edgecolor='red')\n",
        "plt.xlabel('Height Intervals (cm)')\n",
        "plt.ylabel('Frequency')\n",
        "plt.title('Height Distribution Histogram')\n",
        "plt.grid(True)\n",
        "plt.show()\n",
        "\n",
        "\n",
        "\n",
        "                  import matplotlib.pyplot as plt\n",
        "# Define the data\n",
        "x= [5, 7, 8, 7, 2, 17, 2, 9, 4, 11, 12, 9, 6]\n",
        "y = [99, 86, 87, 88, 111, 86, 103, 87, 94, 78, 77, 85, 86]\n",
        "# Plot the scatter graph\n",
        "plt.scatter(x, y, color='blue')\n",
        "plt.xlabel('X AXIS')\n",
        "plt.ylabel('Y AXIS')\n",
        "plt.title('Scatter Plot')\n",
        "plt.show()\n",
        "\n",
        "                  import matplotlib.pyplot as plt\n",
        "# Define the data\n",
        "sizes = [35, 25, 25, 15]\n",
        "mylabels = ['w', 'x', 'y', 'z']\n",
        "myexplode = [0.2, 0, 0, 0]\n",
        "# Plot the pie chart\n",
        "plt.pie(sizes, labels=mylabels, explode=myexplode, shadow = True, autopct='%1.1f%%')  # automatic\n",
        "percentage formatting\".It is used to\n",
        "plt.title('Pie Chart')\n",
        "plt.show()\n",
        "\n",
        "\n",
        "\n",
        "\n"
      ]
    }
  ]
}