{
  "nbformat": 4,
  "nbformat_minor": 0,
  "metadata": {
    "colab": {
      "provenance": [],
      "authorship_tag": "ABX9TyNZ+NzS62XSkXTjUkQ1Qsj+",
      "include_colab_link": true
    },
    "kernelspec": {
      "name": "python3",
      "display_name": "Python 3"
    },
    "language_info": {
      "name": "python"
    }
  },
  "cells": [
    {
      "cell_type": "markdown",
      "metadata": {
        "id": "view-in-github",
        "colab_type": "text"
      },
      "source": [
        "<a href=\"https://colab.research.google.com/github/vtu29406-design/python-files/blob/main/task_6a%2C6b%2C6c%2C6d.ipynb\" target=\"_parent\"><img src=\"https://colab.research.google.com/assets/colab-badge.svg\" alt=\"Open In Colab\"/></a>"
      ]
    },
    {
      "cell_type": "code",
      "execution_count": 15,
      "metadata": {
        "colab": {
          "base_uri": "https://localhost:8080/",
          "height": 106
        },
        "id": "uAh_tzxBocAn",
        "outputId": "46e76001-3f9c-4947-8ed0-573918809b91"
      },
      "outputs": [
        {
          "output_type": "error",
          "ename": "IndentationError",
          "evalue": "expected an indented block after function definition on line 1 (ipython-input-3124554276.py, line 2)",
          "traceback": [
            "\u001b[0;36m  File \u001b[0;32m\"/tmp/ipython-input-3124554276.py\"\u001b[0;36m, line \u001b[0;32m2\u001b[0m\n\u001b[0;31m    for file_path in file_paths:\u001b[0m\n\u001b[0m    ^\u001b[0m\n\u001b[0;31mIndentationError\u001b[0m\u001b[0;31m:\u001b[0m expected an indented block after function definition on line 1\n"
          ]
        }
      ],
      "source": [
        "def copy_files(file_paths):\n",
        "for file_path in file_paths:\n",
        "if os.path.exists(file_path):\n",
        "with open(file_path, 'r') as original_file:\n",
        "original_content = original_file.read()\n",
        "copy_file_path = file_path.split('.')[0] + '_copy.' + file_path.split('.')[1]\n",
        "with open(copy_file_path, 'w') as copy_file:\n",
        "copy_file.write(original_content)\n",
        "print(f\"Contents copied from {file_path} to {copy_file_path} successfully.\")\n",
        "else:\n",
        "print(f\"Error: File '{file_path}' not found.\")\n",
        "# Example usage:\n",
        "import os\n",
        "file_list = ['file1.txt', 'file2.txt', 'file3.txt']  # List of file paths\n",
        "copy_files(file_list)\n",
        "\n",
        "def create_file_and_count_occurrences():\n",
        "# Creating a file\n",
        "file_name = input(\"Enter the file name to create: \")\n",
        "with open(file_name, 'w') as file:\n",
        "print(\"Enter the contents of the file (press Enter to finish):\")\n",
        "while True:\n",
        "line = input()\n",
        "if not line:\n",
        "break\n",
        "file.write(line + '\\n')\n",
        "# Displaying contents of the file\n",
        "print(\"\\nContents of the file:\")\n",
        "with open(file_name, 'r') as file:\n",
        "print(file.read())\n",
        "# Counting occurrences of a letter\n",
        "letter = input(\"\\nEnter the letter to count occurrences: \")\n",
        "with open(file_name, 'r') as file:\n",
        "content = file.read()\n",
        "count = content.count(letter)\n",
        "print(f\"\\nThe letter '{letter}' occurs {count} times in the file.\")\n",
        "# Calling the function\n",
        "create_file_and_count_occurrences()\n",
        "\n",
        "def create_file_and_count_words():\n",
        "    # Creating a file\n",
        "    file_name = input(\"Enter the file name to create: \")\n",
        "    with open(file_name, 'w') as file:\n",
        "        print(\"Enter the contents of the file (press Enter to finish):\")\n",
        "        while True:\n",
        "            line = input()\n",
        "            if not line:\n",
        "                break\n",
        "            file.write(line + '\\n')\n",
        "   # Displaying contents of the file\n",
        "    print(\"\\nContents of the file:\")\n",
        "    with open(file_name, 'r') as file:\n",
        "        print(file.read())\n",
        "    # Counting words in the file\n",
        "    with open(file_name, 'r') as file:\n",
        "        content = file.read()\n",
        "        word_count = len(content.split())\n",
        "        print(f\"\\nThe number of words in the file is: {word_count}\")\n",
        "# Calling the function\n",
        "create_file_and_count_words()\n",
        "\n",
        "import csv\n",
        "with open('apple_quality.csv','r') as file:\n",
        "data=csv.reader(file)\n",
        "for row in data:\n",
        "print(row)"
      ]
    }
  ]
}