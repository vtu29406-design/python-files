{
  "nbformat": 4,
  "nbformat_minor": 0,
  "metadata": {
    "colab": {
      "provenance": [],
      "authorship_tag": "ABX9TyPGxqm0R2rdf0KWtJNv9vwE",
      "include_colab_link": true
    },
    "kernelspec": {
      "name": "python3",
      "display_name": "Python 3"
    },
    "language_info": {
      "name": "python"
    }
  },
  "cells": [
    {
      "cell_type": "markdown",
      "metadata": {
        "id": "view-in-github",
        "colab_type": "text"
      },
      "source": [
        "<a href=\"https://colab.research.google.com/github/vtu29406-design/python-files/blob/main/task_3a%2C3b%2C3c%2C3d.ipynb\" target=\"_parent\"><img src=\"https://colab.research.google.com/assets/colab-badge.svg\" alt=\"Open In Colab\"/></a>"
      ]
    },
    {
      "cell_type": "code",
      "execution_count": 5,
      "metadata": {
        "colab": {
          "base_uri": "https://localhost:8080/",
          "height": 106
        },
        "id": "uAh_tzxBocAn",
        "outputId": "bc667315-6065-4d11-88da-beec7af78753"
      },
      "outputs": [
        {
          "output_type": "error",
          "ename": "SyntaxError",
          "evalue": "invalid decimal literal (ipython-input-2327805061.py, line 34)",
          "traceback": [
            "\u001b[0;36m  File \u001b[0;32m\"/tmp/ipython-input-2327805061.py\"\u001b[0;36m, line \u001b[0;32m34\u001b[0m\n\u001b[0;31m    3d.py\u001b[0m\n\u001b[0m    ^\u001b[0m\n\u001b[0;31mSyntaxError\u001b[0m\u001b[0;31m:\u001b[0m invalid decimal literal\n"
          ]
        }
      ],
      "source": [
        "import datetime\n",
        "# Input\n",
        "input_date = input(\"Enter the date in MM DD YYYY format: \")\n",
        "month, day, year = map(int, input_date.split())\n",
        "# Check if the year is within the specified constraints\n",
        "if 2000 < year < 3000:\n",
        "x = datetime.datetime(year, month, day)\n",
        "day_name = x.strftime(\"%A\").upper()\n",
        "print(day_name)\n",
        "else:\n",
        "# Convert to datetime object\n",
        "# Get and print the day in capital letters\n",
        "print(\"Year is not within the specified constraints.\")\n",
        "\n",
        "from math import pow\n",
        "def compute_armstrong(x):\n",
        "n = len(str(x))\n",
        "# Converts the number x to a string. For\n",
        "example, if x is 153, str(x) becomes the string \"153\".\n",
        "armstrong_sum = sum(pow(int(i), n) for i in str(x))\n",
        "return armstrong_sum == x\n",
        "number = int(input(\"Enter a number: \"))\n",
        "if compute_armstrong(number):\n",
        "print(f\"{number} is an Armstrong number\")\n",
        "else:\n",
        "print(f\"{number} is not an Armstrong number\")\n",
        "\n",
        "\n",
        "euclidean_distance_module.py\n",
        "import math\n",
        "def edistance(x, y):\n",
        "distance = math.sqrt((y[0] - x[0])**2 + (y[1] - x[1])**2)\n",
        "return distance\n",
        "3d.py\n",
        "from euclidean_distance_module import edistance\n",
        "X = (1, 3)\n",
        "Y = (2, 3)\n",
        "result = edistance(X, Y)\n",
        "#Tuple\n",
        "print(\"Euclidean distance between X and Y:\", result)\n",
        "\n",
        "\n",
        "\n",
        "__init__.py\n",
        "//IT SHOULD BE AN EMPTY FILE\n",
        "Mod1.py\n",
        "def display():\n",
        "print(\"Hello World\")\n",
        "Mod2.py\n",
        "def sum(a, b):\n",
        "return a+b\n",
        "sample_task3.py\n",
        "from T3 import mod1\n",
        "from T3 import mod2\n",
        "mod1.display()\n",
        "res = mod2.sum(1, 2)\n",
        "print(res)"
      ]
    }
  ]
}